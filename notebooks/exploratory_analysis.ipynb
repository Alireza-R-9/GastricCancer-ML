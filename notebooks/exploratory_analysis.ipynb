{
 "cells": [
  {
   "metadata": {},
   "cell_type": "markdown",
   "source": "# 🧪 Exploratory Data Analysis: Gastric Cancer Dataset",
   "id": "f5b6860b4479a710"
  },
  {
   "cell_type": "code",
   "id": "initial_id",
   "metadata": {
    "collapsed": true,
    "jupyter": {
     "is_executing": true
    }
   },
   "source": [
    "import pandas as pd\n",
    "import matplotlib.pyplot as plt\n",
    "import seaborn as sns\n",
    "import plotly.express as px\n",
    "import numpy as np\n",
    "import os\n",
    "\n",
    "# Load dataset\n",
    "DATA_PATH = '../data/gastric_big.csv'\n",
    "df = pd.read_csv(DATA_PATH)\n",
    "df.head()\n"
   ],
   "outputs": [],
   "execution_count": null
  },
  {
   "metadata": {},
   "cell_type": "markdown",
   "source": "## 📊 Basic Info & Statistics\n",
   "id": "ef7b245d194c7895"
  },
  {
   "metadata": {},
   "cell_type": "code",
   "outputs": [],
   "execution_count": null,
   "source": "df.info()\n",
   "id": "2b309d426891aa15"
  },
  {
   "metadata": {},
   "cell_type": "code",
   "outputs": [],
   "execution_count": null,
   "source": "df.describe()\n",
   "id": "c6bd576bd806737c"
  },
  {
   "metadata": {},
   "cell_type": "markdown",
   "source": "## 📌 Class Distribution\n",
   "id": "d0b3d9893b2086cb"
  },
  {
   "metadata": {},
   "cell_type": "code",
   "outputs": [],
   "execution_count": null,
   "source": [
    "sns.countplot(data=df, x=\"Diagnosis\", palette=\"Set2\")\n",
    "plt.title(\"Class Distribution\")\n",
    "plt.ylabel(\"Count\")\n",
    "plt.xlabel(\"Diagnosis\")\n",
    "plt.show()\n"
   ],
   "id": "2752a4de95eda070"
  },
  {
   "metadata": {},
   "cell_type": "markdown",
   "source": "## 🧬 Feature Distributions\n",
   "id": "6e48445c634a8705"
  },
  {
   "metadata": {},
   "cell_type": "code",
   "outputs": [],
   "execution_count": null,
   "source": [
    "features = df.columns[:-1]  # exclude Diagnosis\n",
    "df[features].hist(figsize=(16, 10), bins=30, edgecolor='black')\n",
    "plt.suptitle(\"Feature Distributions\", fontsize=16)\n",
    "plt.show()\n"
   ],
   "id": "66e75b773243ab87"
  },
  {
   "metadata": {},
   "cell_type": "markdown",
   "source": "## 🔍 Correlation Heatmap\n",
   "id": "953378b3acc290a0"
  },
  {
   "metadata": {},
   "cell_type": "code",
   "outputs": [],
   "execution_count": null,
   "source": [
    "plt.figure(figsize=(12, 8))\n",
    "sns.heatmap(df.corr(numeric_only=True), annot=True, fmt=\".2f\", cmap=\"coolwarm\")\n",
    "plt.title(\"Correlation Heatmap\")\n",
    "plt.show()\n"
   ],
   "id": "26d5d0e76713557d"
  },
  {
   "metadata": {},
   "cell_type": "markdown",
   "source": "## 📦 Boxplot per Feature vs. Diagnosis\n",
   "id": "9d28b7ee3d1538a"
  },
  {
   "metadata": {},
   "cell_type": "code",
   "outputs": [],
   "execution_count": null,
   "source": [
    "for feature in features:\n",
    "    plt.figure(figsize=(6, 4))\n",
    "    sns.boxplot(data=df, x=\"Diagnosis\", y=feature, palette=\"Set3\")\n",
    "    plt.title(f\"{feature} vs. Diagnosis\")\n",
    "    plt.show()\n"
   ],
   "id": "eb0063fdf67642af"
  },
  {
   "metadata": {},
   "cell_type": "markdown",
   "source": "## ✨ Interactive Plot: Age vs. Glucose\n",
   "id": "14261e70d944ba1d"
  },
  {
   "metadata": {},
   "cell_type": "code",
   "outputs": [],
   "execution_count": null,
   "source": [
    "fig = px.scatter(\n",
    "    df.sample(5000), x=\"Age\", y=\"Glucose\", color=\"Diagnosis\",\n",
    "    title=\"Age vs Glucose by Diagnosis\",\n",
    "    opacity=0.6\n",
    ")\n",
    "fig.show()\n"
   ],
   "id": "4caf1b8c71cdebf8"
  }
 ],
 "metadata": {
  "kernelspec": {
   "display_name": "Python 3",
   "language": "python",
   "name": "python3"
  },
  "language_info": {
   "codemirror_mode": {
    "name": "ipython",
    "version": 2
   },
   "file_extension": ".py",
   "mimetype": "text/x-python",
   "name": "python",
   "nbconvert_exporter": "python",
   "pygments_lexer": "ipython2",
   "version": "2.7.6"
  }
 },
 "nbformat": 4,
 "nbformat_minor": 5
}
